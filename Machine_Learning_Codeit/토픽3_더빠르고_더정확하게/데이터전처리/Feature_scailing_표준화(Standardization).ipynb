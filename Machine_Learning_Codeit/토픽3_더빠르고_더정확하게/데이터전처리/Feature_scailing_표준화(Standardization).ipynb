{
 "cells": [
  {
   "cell_type": "code",
   "execution_count": 9,
   "id": "0777bc60",
   "metadata": {},
   "outputs": [],
   "source": [
    "import pandas as pd\n",
    "from sklearn import preprocessing\n",
    "pd.set_option('display.float_format', lambda x: '%.5f' % x)"
   ]
  },
  {
   "cell_type": "code",
   "execution_count": 2,
   "id": "2049cc63",
   "metadata": {},
   "outputs": [],
   "source": [
    "path = 'Desktop/NBA_player_of_the_week.csv'"
   ]
  },
  {
   "cell_type": "code",
   "execution_count": 3,
   "id": "4553dc1b",
   "metadata": {},
   "outputs": [],
   "source": [
    "df = pd.read_csv(path)"
   ]
  },
  {
   "cell_type": "code",
   "execution_count": 6,
   "id": "4d260d81",
   "metadata": {},
   "outputs": [],
   "source": [
    "new_df = df[['Age', 'Height CM', 'Weight KG']]"
   ]
  },
  {
   "cell_type": "code",
   "execution_count": 7,
   "id": "27685e08",
   "metadata": {},
   "outputs": [],
   "source": [
    "scaler = preprocessing.StandardScaler()\n",
    "standardized_data = scaler.fit_transform(new_df)\n",
    "    \n",
    "standardized_df = pd.DataFrame(standardized_data, columns=['Height', 'Weight', 'Age'])"
   ]
  },
  {
   "cell_type": "code",
   "execution_count": 10,
   "id": "ade86bff",
   "metadata": {},
   "outputs": [
    {
     "data": {
      "text/html": [
       "<div>\n",
       "<style scoped>\n",
       "    .dataframe tbody tr th:only-of-type {\n",
       "        vertical-align: middle;\n",
       "    }\n",
       "\n",
       "    .dataframe tbody tr th {\n",
       "        vertical-align: top;\n",
       "    }\n",
       "\n",
       "    .dataframe thead th {\n",
       "        text-align: right;\n",
       "    }\n",
       "</style>\n",
       "<table border=\"1\" class=\"dataframe\">\n",
       "  <thead>\n",
       "    <tr style=\"text-align: right;\">\n",
       "      <th></th>\n",
       "      <th>Height</th>\n",
       "      <th>Weight</th>\n",
       "      <th>Age</th>\n",
       "    </tr>\n",
       "  </thead>\n",
       "  <tbody>\n",
       "    <tr>\n",
       "      <th>count</th>\n",
       "      <td>1340.00000</td>\n",
       "      <td>1340.00000</td>\n",
       "      <td>1340.00000</td>\n",
       "    </tr>\n",
       "    <tr>\n",
       "      <th>mean</th>\n",
       "      <td>-0.00000</td>\n",
       "      <td>-0.00000</td>\n",
       "      <td>-0.00000</td>\n",
       "    </tr>\n",
       "    <tr>\n",
       "      <th>std</th>\n",
       "      <td>1.00037</td>\n",
       "      <td>1.00037</td>\n",
       "      <td>1.00037</td>\n",
       "    </tr>\n",
       "    <tr>\n",
       "      <th>min</th>\n",
       "      <td>-2.27629</td>\n",
       "      <td>-2.78410</td>\n",
       "      <td>-2.38357</td>\n",
       "    </tr>\n",
       "    <tr>\n",
       "      <th>25%</th>\n",
       "      <td>-0.80545</td>\n",
       "      <td>-0.86194</td>\n",
       "      <td>-0.59862</td>\n",
       "    </tr>\n",
       "    <tr>\n",
       "      <th>50%</th>\n",
       "      <td>-0.21711</td>\n",
       "      <td>-0.00765</td>\n",
       "      <td>-0.17024</td>\n",
       "    </tr>\n",
       "    <tr>\n",
       "      <th>75%</th>\n",
       "      <td>0.66539</td>\n",
       "      <td>0.73986</td>\n",
       "      <td>0.82934</td>\n",
       "    </tr>\n",
       "    <tr>\n",
       "      <th>max</th>\n",
       "      <td>3.90124</td>\n",
       "      <td>2.98237</td>\n",
       "      <td>3.25687</td>\n",
       "    </tr>\n",
       "  </tbody>\n",
       "</table>\n",
       "</div>"
      ],
      "text/plain": [
       "          Height     Weight        Age\n",
       "count 1340.00000 1340.00000 1340.00000\n",
       "mean    -0.00000   -0.00000   -0.00000\n",
       "std      1.00037    1.00037    1.00037\n",
       "min     -2.27629   -2.78410   -2.38357\n",
       "25%     -0.80545   -0.86194   -0.59862\n",
       "50%     -0.21711   -0.00765   -0.17024\n",
       "75%      0.66539    0.73986    0.82934\n",
       "max      3.90124    2.98237    3.25687"
      ]
     },
     "execution_count": 10,
     "metadata": {},
     "output_type": "execute_result"
    }
   ],
   "source": [
    "standardized_df.describe()"
   ]
  }
 ],
 "metadata": {
  "kernelspec": {
   "display_name": "Python 3 (ipykernel)",
   "language": "python",
   "name": "python3"
  },
  "language_info": {
   "codemirror_mode": {
    "name": "ipython",
    "version": 3
   },
   "file_extension": ".py",
   "mimetype": "text/x-python",
   "name": "python",
   "nbconvert_exporter": "python",
   "pygments_lexer": "ipython3",
   "version": "3.9.7"
  }
 },
 "nbformat": 4,
 "nbformat_minor": 5
}
