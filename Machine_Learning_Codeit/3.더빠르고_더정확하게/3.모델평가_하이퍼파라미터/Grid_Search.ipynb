{
 "cells": [
  {
   "cell_type": "code",
   "execution_count": 32,
   "id": "f37be2fb",
   "metadata": {},
   "outputs": [],
   "source": [
    "from sklearn.model_selection import train_test_split\n",
    "from sklearn.linear_model import Lasso\n",
    "from sklearn.metrics import mean_squared_error\n",
    "from sklearn.preprocessing import PolynomialFeatures\n",
    "from sklearn.model_selection import GridSearchCV\n",
    "from sklearn.model_selection import cross_val_score\n",
    "import pandas as pd\n",
    "import numpy as np"
   ]
  },
  {
   "cell_type": "code",
   "execution_count": 2,
   "id": "f5c59d62",
   "metadata": {},
   "outputs": [],
   "source": [
    "df = pd.read_csv(\"Desktop/admission_data.csv\")"
   ]
  },
  {
   "cell_type": "code",
   "execution_count": 3,
   "id": "f6d1e8d6",
   "metadata": {},
   "outputs": [],
   "source": [
    "X = df.drop(['Chance of Admit '], axis=1)"
   ]
  },
  {
   "cell_type": "code",
   "execution_count": 18,
   "id": "7841bcdf",
   "metadata": {},
   "outputs": [],
   "source": [
    "ploynomial_transform = PolynomialFeatures(2) # 2차 다항식으로 바꾸기"
   ]
  },
  {
   "cell_type": "code",
   "execution_count": 15,
   "id": "1e90e838",
   "metadata": {},
   "outputs": [],
   "source": [
    "ploynomial_features = ploynomial_transform.fit_transform(X.values)"
   ]
  },
  {
   "cell_type": "code",
   "execution_count": 16,
   "id": "4ec1cf64",
   "metadata": {},
   "outputs": [],
   "source": [
    "features = ploynomial_transform.get_feature_names(X.columns)"
   ]
  },
  {
   "cell_type": "code",
   "execution_count": 17,
   "id": "7d93104f",
   "metadata": {},
   "outputs": [],
   "source": [
    "X = pd.DataFrame(ploynomial_features, columns=features)"
   ]
  },
  {
   "cell_type": "code",
   "execution_count": 19,
   "id": "256a37f5",
   "metadata": {},
   "outputs": [],
   "source": [
    "y = df[['Chance of Admit ']]"
   ]
  },
  {
   "cell_type": "code",
   "execution_count": 21,
   "id": "ac7c449f",
   "metadata": {},
   "outputs": [],
   "source": [
    "hyper_parameter = {\n",
    "    'alpha':[0.1, 0.01, 1, 10],\n",
    "    'max_iter':[100, 500, 1000, 1500, 2000]\n",
    "}"
   ]
  },
  {
   "cell_type": "code",
   "execution_count": 22,
   "id": "6ecde9b7",
   "metadata": {},
   "outputs": [],
   "source": [
    "model = Lasso()"
   ]
  },
  {
   "cell_type": "code",
   "execution_count": 26,
   "id": "eb29fc77",
   "metadata": {},
   "outputs": [
    {
     "name": "stderr",
     "output_type": "stream",
     "text": [
      "C:\\Users\\USER\\anaconda3\\lib\\site-packages\\sklearn\\linear_model\\_coordinate_descent.py:530: ConvergenceWarning: Objective did not converge. You might want to increase the number of iterations. Duality gap: 0.37849076811408333, tolerance: 0.0006706039000000002\n",
      "  model = cd_fast.enet_coordinate_descent(\n",
      "C:\\Users\\USER\\anaconda3\\lib\\site-packages\\sklearn\\linear_model\\_coordinate_descent.py:530: ConvergenceWarning: Objective did not converge. You might want to increase the number of iterations. Duality gap: 0.5549106254589088, tolerance: 0.0008245817750000001\n",
      "  model = cd_fast.enet_coordinate_descent(\n",
      "C:\\Users\\USER\\anaconda3\\lib\\site-packages\\sklearn\\linear_model\\_coordinate_descent.py:530: ConvergenceWarning: Objective did not converge. You might want to increase the number of iterations. Duality gap: 0.6314637687399687, tolerance: 0.0008590157750000003\n",
      "  model = cd_fast.enet_coordinate_descent(\n",
      "C:\\Users\\USER\\anaconda3\\lib\\site-packages\\sklearn\\linear_model\\_coordinate_descent.py:530: ConvergenceWarning: Objective did not converge. You might want to increase the number of iterations. Duality gap: 0.5515281007103924, tolerance: 0.0007997223999999996\n",
      "  model = cd_fast.enet_coordinate_descent(\n",
      "C:\\Users\\USER\\anaconda3\\lib\\site-packages\\sklearn\\linear_model\\_coordinate_descent.py:530: ConvergenceWarning: Objective did not converge. You might want to increase the number of iterations. Duality gap: 0.6011308217740271, tolerance: 0.0008114630999999999\n",
      "  model = cd_fast.enet_coordinate_descent(\n",
      "C:\\Users\\USER\\anaconda3\\lib\\site-packages\\sklearn\\linear_model\\_coordinate_descent.py:530: ConvergenceWarning: Objective did not converge. You might want to increase the number of iterations. Duality gap: 0.3518260387869077, tolerance: 0.0006706039000000002\n",
      "  model = cd_fast.enet_coordinate_descent(\n",
      "C:\\Users\\USER\\anaconda3\\lib\\site-packages\\sklearn\\linear_model\\_coordinate_descent.py:530: ConvergenceWarning: Objective did not converge. You might want to increase the number of iterations. Duality gap: 0.5156684989499947, tolerance: 0.0008245817750000001\n",
      "  model = cd_fast.enet_coordinate_descent(\n",
      "C:\\Users\\USER\\anaconda3\\lib\\site-packages\\sklearn\\linear_model\\_coordinate_descent.py:530: ConvergenceWarning: Objective did not converge. You might want to increase the number of iterations. Duality gap: 0.5880993926780022, tolerance: 0.0008590157750000003\n",
      "  model = cd_fast.enet_coordinate_descent(\n",
      "C:\\Users\\USER\\anaconda3\\lib\\site-packages\\sklearn\\linear_model\\_coordinate_descent.py:530: ConvergenceWarning: Objective did not converge. You might want to increase the number of iterations. Duality gap: 0.5114316672841048, tolerance: 0.0007997223999999996\n",
      "  model = cd_fast.enet_coordinate_descent(\n",
      "C:\\Users\\USER\\anaconda3\\lib\\site-packages\\sklearn\\linear_model\\_coordinate_descent.py:530: ConvergenceWarning: Objective did not converge. You might want to increase the number of iterations. Duality gap: 0.5633954343259924, tolerance: 0.0008114630999999999\n",
      "  model = cd_fast.enet_coordinate_descent(\n",
      "C:\\Users\\USER\\anaconda3\\lib\\site-packages\\sklearn\\linear_model\\_coordinate_descent.py:530: ConvergenceWarning: Objective did not converge. You might want to increase the number of iterations. Duality gap: 0.3452481155761647, tolerance: 0.0006706039000000002\n",
      "  model = cd_fast.enet_coordinate_descent(\n",
      "C:\\Users\\USER\\anaconda3\\lib\\site-packages\\sklearn\\linear_model\\_coordinate_descent.py:530: ConvergenceWarning: Objective did not converge. You might want to increase the number of iterations. Duality gap: 0.4985250313818485, tolerance: 0.0008245817750000001\n",
      "  model = cd_fast.enet_coordinate_descent(\n",
      "C:\\Users\\USER\\anaconda3\\lib\\site-packages\\sklearn\\linear_model\\_coordinate_descent.py:530: ConvergenceWarning: Objective did not converge. You might want to increase the number of iterations. Duality gap: 0.5721065061083456, tolerance: 0.0008590157750000003\n",
      "  model = cd_fast.enet_coordinate_descent(\n",
      "C:\\Users\\USER\\anaconda3\\lib\\site-packages\\sklearn\\linear_model\\_coordinate_descent.py:530: ConvergenceWarning: Objective did not converge. You might want to increase the number of iterations. Duality gap: 0.4957356365513031, tolerance: 0.0007997223999999996\n",
      "  model = cd_fast.enet_coordinate_descent(\n",
      "C:\\Users\\USER\\anaconda3\\lib\\site-packages\\sklearn\\linear_model\\_coordinate_descent.py:530: ConvergenceWarning: Objective did not converge. You might want to increase the number of iterations. Duality gap: 0.5505224497506477, tolerance: 0.0008114630999999999\n",
      "  model = cd_fast.enet_coordinate_descent(\n",
      "C:\\Users\\USER\\anaconda3\\lib\\site-packages\\sklearn\\linear_model\\_coordinate_descent.py:530: ConvergenceWarning: Objective did not converge. You might want to increase the number of iterations. Duality gap: 0.34160209037409156, tolerance: 0.0006706039000000002\n",
      "  model = cd_fast.enet_coordinate_descent(\n",
      "C:\\Users\\USER\\anaconda3\\lib\\site-packages\\sklearn\\linear_model\\_coordinate_descent.py:530: ConvergenceWarning: Objective did not converge. You might want to increase the number of iterations. Duality gap: 0.4887938999660453, tolerance: 0.0008245817750000001\n",
      "  model = cd_fast.enet_coordinate_descent(\n",
      "C:\\Users\\USER\\anaconda3\\lib\\site-packages\\sklearn\\linear_model\\_coordinate_descent.py:530: ConvergenceWarning: Objective did not converge. You might want to increase the number of iterations. Duality gap: 0.5633143923319778, tolerance: 0.0008590157750000003\n",
      "  model = cd_fast.enet_coordinate_descent(\n",
      "C:\\Users\\USER\\anaconda3\\lib\\site-packages\\sklearn\\linear_model\\_coordinate_descent.py:530: ConvergenceWarning: Objective did not converge. You might want to increase the number of iterations. Duality gap: 0.4866160781335089, tolerance: 0.0007997223999999996\n",
      "  model = cd_fast.enet_coordinate_descent(\n",
      "C:\\Users\\USER\\anaconda3\\lib\\site-packages\\sklearn\\linear_model\\_coordinate_descent.py:530: ConvergenceWarning: Objective did not converge. You might want to increase the number of iterations. Duality gap: 0.5429894004454151, tolerance: 0.0008114630999999999\n",
      "  model = cd_fast.enet_coordinate_descent(\n",
      "C:\\Users\\USER\\anaconda3\\lib\\site-packages\\sklearn\\linear_model\\_coordinate_descent.py:530: ConvergenceWarning: Objective did not converge. You might want to increase the number of iterations. Duality gap: 0.33884151259343215, tolerance: 0.0006706039000000002\n",
      "  model = cd_fast.enet_coordinate_descent(\n",
      "C:\\Users\\USER\\anaconda3\\lib\\site-packages\\sklearn\\linear_model\\_coordinate_descent.py:530: ConvergenceWarning: Objective did not converge. You might want to increase the number of iterations. Duality gap: 0.4818691970217992, tolerance: 0.0008245817750000001\n",
      "  model = cd_fast.enet_coordinate_descent(\n",
      "C:\\Users\\USER\\anaconda3\\lib\\site-packages\\sklearn\\linear_model\\_coordinate_descent.py:530: ConvergenceWarning: Objective did not converge. You might want to increase the number of iterations. Duality gap: 0.5573574680743109, tolerance: 0.0008590157750000003\n",
      "  model = cd_fast.enet_coordinate_descent(\n",
      "C:\\Users\\USER\\anaconda3\\lib\\site-packages\\sklearn\\linear_model\\_coordinate_descent.py:530: ConvergenceWarning: Objective did not converge. You might want to increase the number of iterations. Duality gap: 0.48034748861431253, tolerance: 0.0007997223999999996\n",
      "  model = cd_fast.enet_coordinate_descent(\n",
      "C:\\Users\\USER\\anaconda3\\lib\\site-packages\\sklearn\\linear_model\\_coordinate_descent.py:530: ConvergenceWarning: Objective did not converge. You might want to increase the number of iterations. Duality gap: 0.537414291410538, tolerance: 0.0008114630999999999\n",
      "  model = cd_fast.enet_coordinate_descent(\n",
      "C:\\Users\\USER\\anaconda3\\lib\\site-packages\\sklearn\\linear_model\\_coordinate_descent.py:530: ConvergenceWarning: Objective did not converge. You might want to increase the number of iterations. Duality gap: 0.3718938617329264, tolerance: 0.0006706039000000002\n",
      "  model = cd_fast.enet_coordinate_descent(\n",
      "C:\\Users\\USER\\anaconda3\\lib\\site-packages\\sklearn\\linear_model\\_coordinate_descent.py:530: ConvergenceWarning: Objective did not converge. You might want to increase the number of iterations. Duality gap: 0.5446733482738576, tolerance: 0.0008245817750000001\n",
      "  model = cd_fast.enet_coordinate_descent(\n",
      "C:\\Users\\USER\\anaconda3\\lib\\site-packages\\sklearn\\linear_model\\_coordinate_descent.py:530: ConvergenceWarning: Objective did not converge. You might want to increase the number of iterations. Duality gap: 0.6240816773071503, tolerance: 0.0008590157750000003\n",
      "  model = cd_fast.enet_coordinate_descent(\n",
      "C:\\Users\\USER\\anaconda3\\lib\\site-packages\\sklearn\\linear_model\\_coordinate_descent.py:530: ConvergenceWarning: Objective did not converge. You might want to increase the number of iterations. Duality gap: 0.5428236396161622, tolerance: 0.0007997223999999996\n",
      "  model = cd_fast.enet_coordinate_descent(\n",
      "C:\\Users\\USER\\anaconda3\\lib\\site-packages\\sklearn\\linear_model\\_coordinate_descent.py:530: ConvergenceWarning: Objective did not converge. You might want to increase the number of iterations. Duality gap: 0.5904318925419819, tolerance: 0.0008114630999999999\n",
      "  model = cd_fast.enet_coordinate_descent(\n",
      "C:\\Users\\USER\\anaconda3\\lib\\site-packages\\sklearn\\linear_model\\_coordinate_descent.py:530: ConvergenceWarning: Objective did not converge. You might want to increase the number of iterations. Duality gap: 0.3442228281175055, tolerance: 0.0006706039000000002\n",
      "  model = cd_fast.enet_coordinate_descent(\n",
      "C:\\Users\\USER\\anaconda3\\lib\\site-packages\\sklearn\\linear_model\\_coordinate_descent.py:530: ConvergenceWarning: Objective did not converge. You might want to increase the number of iterations. Duality gap: 0.4976812396470246, tolerance: 0.0008245817750000001\n",
      "  model = cd_fast.enet_coordinate_descent(\n",
      "C:\\Users\\USER\\anaconda3\\lib\\site-packages\\sklearn\\linear_model\\_coordinate_descent.py:530: ConvergenceWarning: Objective did not converge. You might want to increase the number of iterations. Duality gap: 0.5758269878207318, tolerance: 0.0008590157750000003\n",
      "  model = cd_fast.enet_coordinate_descent(\n",
      "C:\\Users\\USER\\anaconda3\\lib\\site-packages\\sklearn\\linear_model\\_coordinate_descent.py:530: ConvergenceWarning: Objective did not converge. You might want to increase the number of iterations. Duality gap: 0.497104497540061, tolerance: 0.0007997223999999996\n",
      "  model = cd_fast.enet_coordinate_descent(\n",
      "C:\\Users\\USER\\anaconda3\\lib\\site-packages\\sklearn\\linear_model\\_coordinate_descent.py:530: ConvergenceWarning: Objective did not converge. You might want to increase the number of iterations. Duality gap: 0.5538723858285485, tolerance: 0.0008114630999999999\n",
      "  model = cd_fast.enet_coordinate_descent(\n",
      "C:\\Users\\USER\\anaconda3\\lib\\site-packages\\sklearn\\linear_model\\_coordinate_descent.py:530: ConvergenceWarning: Objective did not converge. You might want to increase the number of iterations. Duality gap: 0.3362540004399499, tolerance: 0.0006706039000000002\n",
      "  model = cd_fast.enet_coordinate_descent(\n",
      "C:\\Users\\USER\\anaconda3\\lib\\site-packages\\sklearn\\linear_model\\_coordinate_descent.py:530: ConvergenceWarning: Objective did not converge. You might want to increase the number of iterations. Duality gap: 0.47806568810404, tolerance: 0.0008245817750000001\n",
      "  model = cd_fast.enet_coordinate_descent(\n",
      "C:\\Users\\USER\\anaconda3\\lib\\site-packages\\sklearn\\linear_model\\_coordinate_descent.py:530: ConvergenceWarning: Objective did not converge. You might want to increase the number of iterations. Duality gap: 0.5581266167314586, tolerance: 0.0008590157750000003\n",
      "  model = cd_fast.enet_coordinate_descent(\n",
      "C:\\Users\\USER\\anaconda3\\lib\\site-packages\\sklearn\\linear_model\\_coordinate_descent.py:530: ConvergenceWarning: Objective did not converge. You might want to increase the number of iterations. Duality gap: 0.4789543929446384, tolerance: 0.0007997223999999996\n",
      "  model = cd_fast.enet_coordinate_descent(\n",
      "C:\\Users\\USER\\anaconda3\\lib\\site-packages\\sklearn\\linear_model\\_coordinate_descent.py:530: ConvergenceWarning: Objective did not converge. You might want to increase the number of iterations. Duality gap: 0.5397127441574472, tolerance: 0.0008114630999999999\n",
      "  model = cd_fast.enet_coordinate_descent(\n",
      "C:\\Users\\USER\\anaconda3\\lib\\site-packages\\sklearn\\linear_model\\_coordinate_descent.py:530: ConvergenceWarning: Objective did not converge. You might want to increase the number of iterations. Duality gap: 0.33181512229257865, tolerance: 0.0006706039000000002\n",
      "  model = cd_fast.enet_coordinate_descent(\n",
      "C:\\Users\\USER\\anaconda3\\lib\\site-packages\\sklearn\\linear_model\\_coordinate_descent.py:530: ConvergenceWarning: Objective did not converge. You might want to increase the number of iterations. Duality gap: 0.4664517109558538, tolerance: 0.0008245817750000001\n",
      "  model = cd_fast.enet_coordinate_descent(\n",
      "C:\\Users\\USER\\anaconda3\\lib\\site-packages\\sklearn\\linear_model\\_coordinate_descent.py:530: ConvergenceWarning: Objective did not converge. You might want to increase the number of iterations. Duality gap: 0.5476918755965392, tolerance: 0.0008590157750000003\n",
      "  model = cd_fast.enet_coordinate_descent(\n",
      "C:\\Users\\USER\\anaconda3\\lib\\site-packages\\sklearn\\linear_model\\_coordinate_descent.py:530: ConvergenceWarning: Objective did not converge. You might want to increase the number of iterations. Duality gap: 0.46791820357131153, tolerance: 0.0007997223999999996\n",
      "  model = cd_fast.enet_coordinate_descent(\n",
      "C:\\Users\\USER\\anaconda3\\lib\\site-packages\\sklearn\\linear_model\\_coordinate_descent.py:530: ConvergenceWarning: Objective did not converge. You might want to increase the number of iterations. Duality gap: 0.5300254811084935, tolerance: 0.0008114630999999999\n",
      "  model = cd_fast.enet_coordinate_descent(\n",
      "C:\\Users\\USER\\anaconda3\\lib\\site-packages\\sklearn\\linear_model\\_coordinate_descent.py:530: ConvergenceWarning: Objective did not converge. You might want to increase the number of iterations. Duality gap: 0.32842994466799136, tolerance: 0.0006706039000000002\n",
      "  model = cd_fast.enet_coordinate_descent(\n",
      "C:\\Users\\USER\\anaconda3\\lib\\site-packages\\sklearn\\linear_model\\_coordinate_descent.py:530: ConvergenceWarning: Objective did not converge. You might want to increase the number of iterations. Duality gap: 0.45794772631497677, tolerance: 0.0008245817750000001\n",
      "  model = cd_fast.enet_coordinate_descent(\n",
      "C:\\Users\\USER\\anaconda3\\lib\\site-packages\\sklearn\\linear_model\\_coordinate_descent.py:530: ConvergenceWarning: Objective did not converge. You might want to increase the number of iterations. Duality gap: 0.5402970056698958, tolerance: 0.0008590157750000003\n",
      "  model = cd_fast.enet_coordinate_descent(\n",
      "C:\\Users\\USER\\anaconda3\\lib\\site-packages\\sklearn\\linear_model\\_coordinate_descent.py:530: ConvergenceWarning: Objective did not converge. You might want to increase the number of iterations. Duality gap: 0.46051601789670094, tolerance: 0.0007997223999999996\n",
      "  model = cd_fast.enet_coordinate_descent(\n",
      "C:\\Users\\USER\\anaconda3\\lib\\site-packages\\sklearn\\linear_model\\_coordinate_descent.py:530: ConvergenceWarning: Objective did not converge. You might want to increase the number of iterations. Duality gap: 0.5223936870518523, tolerance: 0.0008114630999999999\n",
      "  model = cd_fast.enet_coordinate_descent(\n",
      "C:\\Users\\USER\\anaconda3\\lib\\site-packages\\sklearn\\linear_model\\_coordinate_descent.py:530: ConvergenceWarning: Objective did not converge. You might want to increase the number of iterations. Duality gap: 0.391624186576064, tolerance: 0.0006706039000000002\n",
      "  model = cd_fast.enet_coordinate_descent(\n",
      "C:\\Users\\USER\\anaconda3\\lib\\site-packages\\sklearn\\linear_model\\_coordinate_descent.py:530: ConvergenceWarning: Objective did not converge. You might want to increase the number of iterations. Duality gap: 0.5717196778325405, tolerance: 0.0008245817750000001\n",
      "  model = cd_fast.enet_coordinate_descent(\n",
      "C:\\Users\\USER\\anaconda3\\lib\\site-packages\\sklearn\\linear_model\\_coordinate_descent.py:530: ConvergenceWarning: Objective did not converge. You might want to increase the number of iterations. Duality gap: 0.6471226442202588, tolerance: 0.0008590157750000003\n",
      "  model = cd_fast.enet_coordinate_descent(\n",
      "C:\\Users\\USER\\anaconda3\\lib\\site-packages\\sklearn\\linear_model\\_coordinate_descent.py:530: ConvergenceWarning: Objective did not converge. You might want to increase the number of iterations. Duality gap: 0.5675585618181299, tolerance: 0.0007997223999999996\n",
      "  model = cd_fast.enet_coordinate_descent(\n",
      "C:\\Users\\USER\\anaconda3\\lib\\site-packages\\sklearn\\linear_model\\_coordinate_descent.py:530: ConvergenceWarning: Objective did not converge. You might want to increase the number of iterations. Duality gap: 0.6169718009889057, tolerance: 0.0008114630999999999\n",
      "  model = cd_fast.enet_coordinate_descent(\n",
      "C:\\Users\\USER\\anaconda3\\lib\\site-packages\\sklearn\\linear_model\\_coordinate_descent.py:530: ConvergenceWarning: Objective did not converge. You might want to increase the number of iterations. Duality gap: 0.36616142011355335, tolerance: 0.0006706039000000002\n",
      "  model = cd_fast.enet_coordinate_descent(\n",
      "C:\\Users\\USER\\anaconda3\\lib\\site-packages\\sklearn\\linear_model\\_coordinate_descent.py:530: ConvergenceWarning: Objective did not converge. You might want to increase the number of iterations. Duality gap: 0.5389210349454104, tolerance: 0.0008245817750000001\n",
      "  model = cd_fast.enet_coordinate_descent(\n",
      "C:\\Users\\USER\\anaconda3\\lib\\site-packages\\sklearn\\linear_model\\_coordinate_descent.py:530: ConvergenceWarning: Objective did not converge. You might want to increase the number of iterations. Duality gap: 0.6108078862832149, tolerance: 0.0008590157750000003\n",
      "  model = cd_fast.enet_coordinate_descent(\n",
      "C:\\Users\\USER\\anaconda3\\lib\\site-packages\\sklearn\\linear_model\\_coordinate_descent.py:530: ConvergenceWarning: Objective did not converge. You might want to increase the number of iterations. Duality gap: 0.5353670117618988, tolerance: 0.0007997223999999996\n",
      "  model = cd_fast.enet_coordinate_descent(\n",
      "C:\\Users\\USER\\anaconda3\\lib\\site-packages\\sklearn\\linear_model\\_coordinate_descent.py:530: ConvergenceWarning: Objective did not converge. You might want to increase the number of iterations. Duality gap: 0.5830519287334083, tolerance: 0.0008114630999999999\n",
      "  model = cd_fast.enet_coordinate_descent(\n",
      "C:\\Users\\USER\\anaconda3\\lib\\site-packages\\sklearn\\linear_model\\_coordinate_descent.py:530: ConvergenceWarning: Objective did not converge. You might want to increase the number of iterations. Duality gap: 0.3576461403702812, tolerance: 0.0006706039000000002\n",
      "  model = cd_fast.enet_coordinate_descent(\n",
      "C:\\Users\\USER\\anaconda3\\lib\\site-packages\\sklearn\\linear_model\\_coordinate_descent.py:530: ConvergenceWarning: Objective did not converge. You might want to increase the number of iterations. Duality gap: 0.5235194229594743, tolerance: 0.0008245817750000001\n",
      "  model = cd_fast.enet_coordinate_descent(\n",
      "C:\\Users\\USER\\anaconda3\\lib\\site-packages\\sklearn\\linear_model\\_coordinate_descent.py:530: ConvergenceWarning: Objective did not converge. You might want to increase the number of iterations. Duality gap: 0.595073575058981, tolerance: 0.0008590157750000003\n",
      "  model = cd_fast.enet_coordinate_descent(\n",
      "C:\\Users\\USER\\anaconda3\\lib\\site-packages\\sklearn\\linear_model\\_coordinate_descent.py:530: ConvergenceWarning: Objective did not converge. You might want to increase the number of iterations. Duality gap: 0.5190637831855979, tolerance: 0.0007997223999999996\n",
      "  model = cd_fast.enet_coordinate_descent(\n",
      "C:\\Users\\USER\\anaconda3\\lib\\site-packages\\sklearn\\linear_model\\_coordinate_descent.py:530: ConvergenceWarning: Objective did not converge. You might want to increase the number of iterations. Duality gap: 0.5688030252419841, tolerance: 0.0008114630999999999\n",
      "  model = cd_fast.enet_coordinate_descent(\n",
      "C:\\Users\\USER\\anaconda3\\lib\\site-packages\\sklearn\\linear_model\\_coordinate_descent.py:530: ConvergenceWarning: Objective did not converge. You might want to increase the number of iterations. Duality gap: 0.35313004881658205, tolerance: 0.0006706039000000002\n",
      "  model = cd_fast.enet_coordinate_descent(\n",
      "C:\\Users\\USER\\anaconda3\\lib\\site-packages\\sklearn\\linear_model\\_coordinate_descent.py:530: ConvergenceWarning: Objective did not converge. You might want to increase the number of iterations. Duality gap: 0.5143234336564755, tolerance: 0.0008245817750000001\n",
      "  model = cd_fast.enet_coordinate_descent(\n",
      "C:\\Users\\USER\\anaconda3\\lib\\site-packages\\sklearn\\linear_model\\_coordinate_descent.py:530: ConvergenceWarning: Objective did not converge. You might want to increase the number of iterations. Duality gap: 0.5851753413124137, tolerance: 0.0008590157750000003\n",
      "  model = cd_fast.enet_coordinate_descent(\n",
      "C:\\Users\\USER\\anaconda3\\lib\\site-packages\\sklearn\\linear_model\\_coordinate_descent.py:530: ConvergenceWarning: Objective did not converge. You might want to increase the number of iterations. Duality gap: 0.5088848164122364, tolerance: 0.0007997223999999996\n",
      "  model = cd_fast.enet_coordinate_descent(\n",
      "C:\\Users\\USER\\anaconda3\\lib\\site-packages\\sklearn\\linear_model\\_coordinate_descent.py:530: ConvergenceWarning: Objective did not converge. You might want to increase the number of iterations. Duality gap: 0.5602584600368625, tolerance: 0.0008114630999999999\n",
      "  model = cd_fast.enet_coordinate_descent(\n",
      "C:\\Users\\USER\\anaconda3\\lib\\site-packages\\sklearn\\linear_model\\_coordinate_descent.py:530: ConvergenceWarning: Objective did not converge. You might want to increase the number of iterations. Duality gap: 0.3505279191958722, tolerance: 0.0006706039000000002\n",
      "  model = cd_fast.enet_coordinate_descent(\n",
      "C:\\Users\\USER\\anaconda3\\lib\\site-packages\\sklearn\\linear_model\\_coordinate_descent.py:530: ConvergenceWarning: Objective did not converge. You might want to increase the number of iterations. Duality gap: 0.5084106759049061, tolerance: 0.0008245817750000001\n",
      "  model = cd_fast.enet_coordinate_descent(\n",
      "C:\\Users\\USER\\anaconda3\\lib\\site-packages\\sklearn\\linear_model\\_coordinate_descent.py:530: ConvergenceWarning: Objective did not converge. You might want to increase the number of iterations. Duality gap: 0.5777776288779416, tolerance: 0.0008590157750000003\n",
      "  model = cd_fast.enet_coordinate_descent(\n",
      "C:\\Users\\USER\\anaconda3\\lib\\site-packages\\sklearn\\linear_model\\_coordinate_descent.py:530: ConvergenceWarning: Objective did not converge. You might want to increase the number of iterations. Duality gap: 0.5012314040440417, tolerance: 0.0007997223999999996\n",
      "  model = cd_fast.enet_coordinate_descent(\n",
      "C:\\Users\\USER\\anaconda3\\lib\\site-packages\\sklearn\\linear_model\\_coordinate_descent.py:530: ConvergenceWarning: Objective did not converge. You might want to increase the number of iterations. Duality gap: 0.5547822185041619, tolerance: 0.0008114630999999999\n",
      "  model = cd_fast.enet_coordinate_descent(\n",
      "C:\\Users\\USER\\anaconda3\\lib\\site-packages\\sklearn\\linear_model\\_coordinate_descent.py:530: ConvergenceWarning: Objective did not converge. You might want to increase the number of iterations. Duality gap: 0.40660823614464003, tolerance: 0.0006706039000000002\n",
      "  model = cd_fast.enet_coordinate_descent(\n",
      "C:\\Users\\USER\\anaconda3\\lib\\site-packages\\sklearn\\linear_model\\_coordinate_descent.py:530: ConvergenceWarning: Objective did not converge. You might want to increase the number of iterations. Duality gap: 0.5911541916354619, tolerance: 0.0008245817750000001\n",
      "  model = cd_fast.enet_coordinate_descent(\n",
      "C:\\Users\\USER\\anaconda3\\lib\\site-packages\\sklearn\\linear_model\\_coordinate_descent.py:530: ConvergenceWarning: Objective did not converge. You might want to increase the number of iterations. Duality gap: 0.6709311037665008, tolerance: 0.0008590157750000003\n",
      "  model = cd_fast.enet_coordinate_descent(\n",
      "C:\\Users\\USER\\anaconda3\\lib\\site-packages\\sklearn\\linear_model\\_coordinate_descent.py:530: ConvergenceWarning: Objective did not converge. You might want to increase the number of iterations. Duality gap: 0.5873374389114114, tolerance: 0.0007997223999999996\n",
      "  model = cd_fast.enet_coordinate_descent(\n",
      "C:\\Users\\USER\\anaconda3\\lib\\site-packages\\sklearn\\linear_model\\_coordinate_descent.py:530: ConvergenceWarning: Objective did not converge. You might want to increase the number of iterations. Duality gap: 0.6407397000117994, tolerance: 0.0008114630999999999\n",
      "  model = cd_fast.enet_coordinate_descent(\n",
      "C:\\Users\\USER\\anaconda3\\lib\\site-packages\\sklearn\\linear_model\\_coordinate_descent.py:530: ConvergenceWarning: Objective did not converge. You might want to increase the number of iterations. Duality gap: 0.3835103981612187, tolerance: 0.0006706039000000002\n",
      "  model = cd_fast.enet_coordinate_descent(\n",
      "C:\\Users\\USER\\anaconda3\\lib\\site-packages\\sklearn\\linear_model\\_coordinate_descent.py:530: ConvergenceWarning: Objective did not converge. You might want to increase the number of iterations. Duality gap: 0.5625080606226707, tolerance: 0.0008245817750000001\n",
      "  model = cd_fast.enet_coordinate_descent(\n",
      "C:\\Users\\USER\\anaconda3\\lib\\site-packages\\sklearn\\linear_model\\_coordinate_descent.py:530: ConvergenceWarning: Objective did not converge. You might want to increase the number of iterations. Duality gap: 0.6373261913490453, tolerance: 0.0008590157750000003\n",
      "  model = cd_fast.enet_coordinate_descent(\n",
      "C:\\Users\\USER\\anaconda3\\lib\\site-packages\\sklearn\\linear_model\\_coordinate_descent.py:530: ConvergenceWarning: Objective did not converge. You might want to increase the number of iterations. Duality gap: 0.5592429513334183, tolerance: 0.0007997223999999996\n",
      "  model = cd_fast.enet_coordinate_descent(\n",
      "C:\\Users\\USER\\anaconda3\\lib\\site-packages\\sklearn\\linear_model\\_coordinate_descent.py:530: ConvergenceWarning: Objective did not converge. You might want to increase the number of iterations. Duality gap: 0.6090409322029843, tolerance: 0.0008114630999999999\n",
      "  model = cd_fast.enet_coordinate_descent(\n",
      "C:\\Users\\USER\\anaconda3\\lib\\site-packages\\sklearn\\linear_model\\_coordinate_descent.py:530: ConvergenceWarning: Objective did not converge. You might want to increase the number of iterations. Duality gap: 0.37555207819113917, tolerance: 0.0006706039000000002\n",
      "  model = cd_fast.enet_coordinate_descent(\n",
      "C:\\Users\\USER\\anaconda3\\lib\\site-packages\\sklearn\\linear_model\\_coordinate_descent.py:530: ConvergenceWarning: Objective did not converge. You might want to increase the number of iterations. Duality gap: 0.5499215188665544, tolerance: 0.0008245817750000001\n",
      "  model = cd_fast.enet_coordinate_descent(\n",
      "C:\\Users\\USER\\anaconda3\\lib\\site-packages\\sklearn\\linear_model\\_coordinate_descent.py:530: ConvergenceWarning: Objective did not converge. You might want to increase the number of iterations. Duality gap: 0.6239248009207637, tolerance: 0.0008590157750000003\n",
      "  model = cd_fast.enet_coordinate_descent(\n",
      "C:\\Users\\USER\\anaconda3\\lib\\site-packages\\sklearn\\linear_model\\_coordinate_descent.py:530: ConvergenceWarning: Objective did not converge. You might want to increase the number of iterations. Duality gap: 0.5464827935552133, tolerance: 0.0007997223999999996\n",
      "  model = cd_fast.enet_coordinate_descent(\n",
      "C:\\Users\\USER\\anaconda3\\lib\\site-packages\\sklearn\\linear_model\\_coordinate_descent.py:530: ConvergenceWarning: Objective did not converge. You might want to increase the number of iterations. Duality gap: 0.5981985419837355, tolerance: 0.0008114630999999999\n",
      "  model = cd_fast.enet_coordinate_descent(\n",
      "C:\\Users\\USER\\anaconda3\\lib\\site-packages\\sklearn\\linear_model\\_coordinate_descent.py:530: ConvergenceWarning: Objective did not converge. You might want to increase the number of iterations. Duality gap: 0.3707728772476661, tolerance: 0.0006706039000000002\n",
      "  model = cd_fast.enet_coordinate_descent(\n",
      "C:\\Users\\USER\\anaconda3\\lib\\site-packages\\sklearn\\linear_model\\_coordinate_descent.py:530: ConvergenceWarning: Objective did not converge. You might want to increase the number of iterations. Duality gap: 0.5420404864111724, tolerance: 0.0008245817750000001\n",
      "  model = cd_fast.enet_coordinate_descent(\n",
      "C:\\Users\\USER\\anaconda3\\lib\\site-packages\\sklearn\\linear_model\\_coordinate_descent.py:530: ConvergenceWarning: Objective did not converge. You might want to increase the number of iterations. Duality gap: 0.6146972046610831, tolerance: 0.0008590157750000003\n",
      "  model = cd_fast.enet_coordinate_descent(\n",
      "C:\\Users\\USER\\anaconda3\\lib\\site-packages\\sklearn\\linear_model\\_coordinate_descent.py:530: ConvergenceWarning: Objective did not converge. You might want to increase the number of iterations. Duality gap: 0.5382185038286734, tolerance: 0.0007997223999999996\n",
      "  model = cd_fast.enet_coordinate_descent(\n",
      "C:\\Users\\USER\\anaconda3\\lib\\site-packages\\sklearn\\linear_model\\_coordinate_descent.py:530: ConvergenceWarning: Objective did not converge. You might want to increase the number of iterations. Duality gap: 0.59231780160183, tolerance: 0.0008114630999999999\n",
      "  model = cd_fast.enet_coordinate_descent(\n",
      "C:\\Users\\USER\\anaconda3\\lib\\site-packages\\sklearn\\linear_model\\_coordinate_descent.py:530: ConvergenceWarning: Objective did not converge. You might want to increase the number of iterations. Duality gap: 0.36723665396914834, tolerance: 0.0006706039000000002\n",
      "  model = cd_fast.enet_coordinate_descent(\n",
      "C:\\Users\\USER\\anaconda3\\lib\\site-packages\\sklearn\\linear_model\\_coordinate_descent.py:530: ConvergenceWarning: Objective did not converge. You might want to increase the number of iterations. Duality gap: 0.5370491309419123, tolerance: 0.0008245817750000001\n",
      "  model = cd_fast.enet_coordinate_descent(\n",
      "C:\\Users\\USER\\anaconda3\\lib\\site-packages\\sklearn\\linear_model\\_coordinate_descent.py:530: ConvergenceWarning: Objective did not converge. You might want to increase the number of iterations. Duality gap: 0.6078839848414798, tolerance: 0.0008590157750000003\n",
      "  model = cd_fast.enet_coordinate_descent(\n",
      "C:\\Users\\USER\\anaconda3\\lib\\site-packages\\sklearn\\linear_model\\_coordinate_descent.py:530: ConvergenceWarning: Objective did not converge. You might want to increase the number of iterations. Duality gap: 0.5319429917311647, tolerance: 0.0007997223999999996\n",
      "  model = cd_fast.enet_coordinate_descent(\n",
      "C:\\Users\\USER\\anaconda3\\lib\\site-packages\\sklearn\\linear_model\\_coordinate_descent.py:530: ConvergenceWarning: Objective did not converge. You might want to increase the number of iterations. Duality gap: 0.587784592516927, tolerance: 0.0008114630999999999\n",
      "  model = cd_fast.enet_coordinate_descent(\n",
      "C:\\Users\\USER\\anaconda3\\lib\\site-packages\\sklearn\\linear_model\\_coordinate_descent.py:530: ConvergenceWarning: Objective did not converge. You might want to increase the number of iterations. Duality gap: 0.6941884916273805, tolerance: 0.0009940386200000004\n",
      "  model = cd_fast.enet_coordinate_descent(\n"
     ]
    },
    {
     "data": {
      "text/plain": [
       "GridSearchCV(cv=5, estimator=Lasso(),\n",
       "             param_grid={'alpha': [0.1, 0.01, 1, 10],\n",
       "                         'max_iter': [100, 500, 1000, 1500, 2000]})"
      ]
     },
     "execution_count": 26,
     "metadata": {},
     "output_type": "execute_result"
    }
   ],
   "source": [
    "hyper_parameter_tuner = GridSearchCV(model, hyper_parameter, cv=5)\n",
    "hyper_parameter_tuner.fit(X, y)"
   ]
  },
  {
   "cell_type": "code",
   "execution_count": 27,
   "id": "d3aa457e",
   "metadata": {},
   "outputs": [
    {
     "data": {
      "text/plain": [
       "{'alpha': 0.01, 'max_iter': 100}"
      ]
     },
     "execution_count": 27,
     "metadata": {},
     "output_type": "execute_result"
    }
   ],
   "source": [
    "hyper_parameter_tuner.best_params_"
   ]
  },
  {
   "cell_type": "code",
   "execution_count": null,
   "id": "71d4cdb6",
   "metadata": {},
   "outputs": [],
   "source": []
  },
  {
   "cell_type": "code",
   "execution_count": null,
   "id": "afcb547f",
   "metadata": {},
   "outputs": [],
   "source": []
  },
  {
   "cell_type": "code",
   "execution_count": null,
   "id": "1bdd3a97",
   "metadata": {},
   "outputs": [],
   "source": []
  },
  {
   "cell_type": "code",
   "execution_count": null,
   "id": "3a2de97f",
   "metadata": {},
   "outputs": [],
   "source": [
    "## just test"
   ]
  },
  {
   "cell_type": "code",
   "execution_count": 43,
   "id": "fa9df619",
   "metadata": {},
   "outputs": [
    {
     "name": "stdout",
     "output_type": "stream",
     "text": [
      "0.0\n",
      "0.0\n"
     ]
    }
   ],
   "source": [
    "X_train, X_test, y_train, y_test = train_test_split(X, y, test_size=0.3, random_state=5)\n",
    "model = Lasso(alpha=0.01, max_iter=100, normalize=True)\n",
    "model.fit(X, y)\n",
    "y_train_predict = model.predict(X_train)\n",
    "y_test_predict = model.predict(X_test)\n",
    "\n",
    "y_train_set = mean_squared_error(y_train_predict, ytrain) ** 0.5\n",
    "y_test_set = mean_squared_error(y_test_predict, ytest) ** 0.5\n",
    "\n",
    "print(y_train_set)\n",
    "print(y_test_set)"
   ]
  },
  {
   "cell_type": "code",
   "execution_count": null,
   "id": "e7d04ad4",
   "metadata": {},
   "outputs": [],
   "source": [
    "# 교차검증 테스트"
   ]
  },
  {
   "cell_type": "code",
   "execution_count": 44,
   "id": "36dfa04a",
   "metadata": {},
   "outputs": [
    {
     "data": {
      "text/plain": [
       "-0.07495355915968034"
      ]
     },
     "execution_count": 44,
     "metadata": {},
     "output_type": "execute_result"
    }
   ],
   "source": [
    "np.average(cross_val_score(model, X, y.values.ravel(), cv=5))"
   ]
  },
  {
   "cell_type": "code",
   "execution_count": 42,
   "id": "08b36f04",
   "metadata": {},
   "outputs": [
    {
     "name": "stdout",
     "output_type": "stream",
     "text": [
      "Collecting jupyter_nbextensions_configuratorNote: you may need to restart the kernel to use updated packages.\n",
      "\n",
      "  Downloading jupyter_nbextensions_configurator-0.5.0-py2.py3-none-any.whl (467 kB)\n",
      "Requirement already satisfied: traitlets in c:\\users\\user\\anaconda3\\lib\\site-packages (from jupyter_nbextensions_configurator) (5.1.0)\n",
      "Requirement already satisfied: tornado in c:\\users\\user\\anaconda3\\lib\\site-packages (from jupyter_nbextensions_configurator) (6.1)\n",
      "Requirement already satisfied: jupyter-core in c:\\users\\user\\anaconda3\\lib\\site-packages (from jupyter_nbextensions_configurator) (4.8.1)\n",
      "Requirement already satisfied: pyyaml in c:\\users\\user\\anaconda3\\lib\\site-packages (from jupyter_nbextensions_configurator) (6.0)\n",
      "Requirement already satisfied: notebook>=6.0 in c:\\users\\user\\anaconda3\\lib\\site-packages (from jupyter_nbextensions_configurator) (6.4.5)\n",
      "Collecting jupyter-contrib-core>=0.3.3\n",
      "  Downloading jupyter_contrib_core-0.4.0-py2.py3-none-any.whl (17 kB)\n",
      "Requirement already satisfied: setuptools in c:\\users\\user\\anaconda3\\lib\\site-packages (from jupyter-contrib-core>=0.3.3->jupyter_nbextensions_configurator) (58.0.4)\n",
      "Requirement already satisfied: ipython-genutils in c:\\users\\user\\anaconda3\\lib\\site-packages (from notebook>=6.0->jupyter_nbextensions_configurator) (0.2.0)\n",
      "Requirement already satisfied: pyzmq>=17 in c:\\users\\user\\anaconda3\\lib\\site-packages (from notebook>=6.0->jupyter_nbextensions_configurator) (22.2.1)\n",
      "Requirement already satisfied: nbformat in c:\\users\\user\\anaconda3\\lib\\site-packages (from notebook>=6.0->jupyter_nbextensions_configurator) (5.1.3)\n",
      "Requirement already satisfied: nbconvert in c:\\users\\user\\anaconda3\\lib\\site-packages (from notebook>=6.0->jupyter_nbextensions_configurator) (6.1.0)\n",
      "Requirement already satisfied: ipykernel in c:\\users\\user\\anaconda3\\lib\\site-packages (from notebook>=6.0->jupyter_nbextensions_configurator) (6.4.1)\n",
      "Requirement already satisfied: argon2-cffi in c:\\users\\user\\anaconda3\\lib\\site-packages (from notebook>=6.0->jupyter_nbextensions_configurator) (20.1.0)\n",
      "Requirement already satisfied: jupyter-client>=5.3.4 in c:\\users\\user\\anaconda3\\lib\\site-packages (from notebook>=6.0->jupyter_nbextensions_configurator) (6.1.12)\n",
      "Requirement already satisfied: Send2Trash>=1.5.0 in c:\\users\\user\\anaconda3\\lib\\site-packages (from notebook>=6.0->jupyter_nbextensions_configurator) (1.8.0)\n",
      "Requirement already satisfied: jinja2 in c:\\users\\user\\anaconda3\\lib\\site-packages (from notebook>=6.0->jupyter_nbextensions_configurator) (2.11.3)\n",
      "Requirement already satisfied: prometheus-client in c:\\users\\user\\anaconda3\\lib\\site-packages (from notebook>=6.0->jupyter_nbextensions_configurator) (0.11.0)\n",
      "Requirement already satisfied: terminado>=0.8.3 in c:\\users\\user\\anaconda3\\lib\\site-packages (from notebook>=6.0->jupyter_nbextensions_configurator) (0.9.4)\n",
      "Requirement already satisfied: python-dateutil>=2.1 in c:\\users\\user\\anaconda3\\lib\\site-packages (from jupyter-client>=5.3.4->notebook>=6.0->jupyter_nbextensions_configurator) (2.8.2)\n",
      "Requirement already satisfied: pywin32>=1.0 in c:\\users\\user\\anaconda3\\lib\\site-packages (from jupyter-core->jupyter_nbextensions_configurator) (228)\n",
      "Requirement already satisfied: six>=1.5 in c:\\users\\user\\anaconda3\\lib\\site-packages (from python-dateutil>=2.1->jupyter-client>=5.3.4->notebook>=6.0->jupyter_nbextensions_configurator) (1.16.0)\n",
      "Requirement already satisfied: pywinpty>=0.5 in c:\\users\\user\\anaconda3\\lib\\site-packages (from terminado>=0.8.3->notebook>=6.0->jupyter_nbextensions_configurator) (0.5.7)\n",
      "Requirement already satisfied: cffi>=1.0.0 in c:\\users\\user\\anaconda3\\lib\\site-packages (from argon2-cffi->notebook>=6.0->jupyter_nbextensions_configurator) (1.14.6)\n",
      "Requirement already satisfied: pycparser in c:\\users\\user\\anaconda3\\lib\\site-packages (from cffi>=1.0.0->argon2-cffi->notebook>=6.0->jupyter_nbextensions_configurator) (2.20)\n",
      "Requirement already satisfied: ipython<8.0,>=7.23.1 in c:\\users\\user\\anaconda3\\lib\\site-packages (from ipykernel->notebook>=6.0->jupyter_nbextensions_configurator) (7.29.0)\n",
      "Requirement already satisfied: matplotlib-inline<0.2.0,>=0.1.0 in c:\\users\\user\\anaconda3\\lib\\site-packages (from ipykernel->notebook>=6.0->jupyter_nbextensions_configurator) (0.1.2)\n",
      "Requirement already satisfied: debugpy<2.0,>=1.0.0 in c:\\users\\user\\anaconda3\\lib\\site-packages (from ipykernel->notebook>=6.0->jupyter_nbextensions_configurator) (1.4.1)\n",
      "Requirement already satisfied: pickleshare in c:\\users\\user\\anaconda3\\lib\\site-packages (from ipython<8.0,>=7.23.1->ipykernel->notebook>=6.0->jupyter_nbextensions_configurator) (0.7.5)\n",
      "Requirement already satisfied: decorator in c:\\users\\user\\anaconda3\\lib\\site-packages (from ipython<8.0,>=7.23.1->ipykernel->notebook>=6.0->jupyter_nbextensions_configurator) (5.1.0)\n",
      "Requirement already satisfied: backcall in c:\\users\\user\\anaconda3\\lib\\site-packages (from ipython<8.0,>=7.23.1->ipykernel->notebook>=6.0->jupyter_nbextensions_configurator) (0.2.0)\n",
      "Requirement already satisfied: pygments in c:\\users\\user\\anaconda3\\lib\\site-packages (from ipython<8.0,>=7.23.1->ipykernel->notebook>=6.0->jupyter_nbextensions_configurator) (2.10.0)\n",
      "Requirement already satisfied: colorama in c:\\users\\user\\anaconda3\\lib\\site-packages (from ipython<8.0,>=7.23.1->ipykernel->notebook>=6.0->jupyter_nbextensions_configurator) (0.4.4)\n",
      "Requirement already satisfied: prompt-toolkit!=3.0.0,!=3.0.1,<3.1.0,>=2.0.0 in c:\\users\\user\\anaconda3\\lib\\site-packages (from ipython<8.0,>=7.23.1->ipykernel->notebook>=6.0->jupyter_nbextensions_configurator) (3.0.20)\n",
      "Requirement already satisfied: jedi>=0.16 in c:\\users\\user\\anaconda3\\lib\\site-packages (from ipython<8.0,>=7.23.1->ipykernel->notebook>=6.0->jupyter_nbextensions_configurator) (0.18.0)\n",
      "Requirement already satisfied: parso<0.9.0,>=0.8.0 in c:\\users\\user\\anaconda3\\lib\\site-packages (from jedi>=0.16->ipython<8.0,>=7.23.1->ipykernel->notebook>=6.0->jupyter_nbextensions_configurator) (0.8.2)\n",
      "Requirement already satisfied: wcwidth in c:\\users\\user\\anaconda3\\lib\\site-packages (from prompt-toolkit!=3.0.0,!=3.0.1,<3.1.0,>=2.0.0->ipython<8.0,>=7.23.1->ipykernel->notebook>=6.0->jupyter_nbextensions_configurator) (0.2.5)\n",
      "Requirement already satisfied: MarkupSafe>=0.23 in c:\\users\\user\\anaconda3\\lib\\site-packages (from jinja2->notebook>=6.0->jupyter_nbextensions_configurator) (1.1.1)\n",
      "Requirement already satisfied: mistune<2,>=0.8.1 in c:\\users\\user\\anaconda3\\lib\\site-packages (from nbconvert->notebook>=6.0->jupyter_nbextensions_configurator) (0.8.4)\n",
      "Requirement already satisfied: bleach in c:\\users\\user\\anaconda3\\lib\\site-packages (from nbconvert->notebook>=6.0->jupyter_nbextensions_configurator) (4.0.0)\n",
      "Requirement already satisfied: entrypoints>=0.2.2 in c:\\users\\user\\anaconda3\\lib\\site-packages (from nbconvert->notebook>=6.0->jupyter_nbextensions_configurator) (0.3)\n",
      "Requirement already satisfied: pandocfilters>=1.4.1 in c:\\users\\user\\anaconda3\\lib\\site-packages (from nbconvert->notebook>=6.0->jupyter_nbextensions_configurator) (1.4.3)\n",
      "Requirement already satisfied: testpath in c:\\users\\user\\anaconda3\\lib\\site-packages (from nbconvert->notebook>=6.0->jupyter_nbextensions_configurator) (0.5.0)\n",
      "Requirement already satisfied: nbclient<0.6.0,>=0.5.0 in c:\\users\\user\\anaconda3\\lib\\site-packages (from nbconvert->notebook>=6.0->jupyter_nbextensions_configurator) (0.5.3)\n",
      "Requirement already satisfied: defusedxml in c:\\users\\user\\anaconda3\\lib\\site-packages (from nbconvert->notebook>=6.0->jupyter_nbextensions_configurator) (0.7.1)\n",
      "Requirement already satisfied: jupyterlab-pygments in c:\\users\\user\\anaconda3\\lib\\site-packages (from nbconvert->notebook>=6.0->jupyter_nbextensions_configurator) (0.1.2)\n",
      "Requirement already satisfied: nest-asyncio in c:\\users\\user\\anaconda3\\lib\\site-packages (from nbclient<0.6.0,>=0.5.0->nbconvert->notebook>=6.0->jupyter_nbextensions_configurator) (1.5.1)\n",
      "Requirement already satisfied: async-generator in c:\\users\\user\\anaconda3\\lib\\site-packages (from nbclient<0.6.0,>=0.5.0->nbconvert->notebook>=6.0->jupyter_nbextensions_configurator) (1.10)\n",
      "Requirement already satisfied: jsonschema!=2.5.0,>=2.4 in c:\\users\\user\\anaconda3\\lib\\site-packages (from nbformat->notebook>=6.0->jupyter_nbextensions_configurator) (3.2.0)\n",
      "Requirement already satisfied: attrs>=17.4.0 in c:\\users\\user\\anaconda3\\lib\\site-packages (from jsonschema!=2.5.0,>=2.4->nbformat->notebook>=6.0->jupyter_nbextensions_configurator) (21.2.0)\n",
      "Requirement already satisfied: pyrsistent>=0.14.0 in c:\\users\\user\\anaconda3\\lib\\site-packages (from jsonschema!=2.5.0,>=2.4->nbformat->notebook>=6.0->jupyter_nbextensions_configurator) (0.18.0)\n",
      "Requirement already satisfied: packaging in c:\\users\\user\\anaconda3\\lib\\site-packages (from bleach->nbconvert->notebook>=6.0->jupyter_nbextensions_configurator) (21.0)\n",
      "Requirement already satisfied: webencodings in c:\\users\\user\\anaconda3\\lib\\site-packages (from bleach->nbconvert->notebook>=6.0->jupyter_nbextensions_configurator) (0.5.1)\n",
      "Requirement already satisfied: pyparsing>=2.0.2 in c:\\users\\user\\anaconda3\\lib\\site-packages (from packaging->bleach->nbconvert->notebook>=6.0->jupyter_nbextensions_configurator) (3.0.4)\n",
      "Installing collected packages: jupyter-contrib-core, jupyter-nbextensions-configurator\n",
      "Successfully installed jupyter-contrib-core-0.4.0 jupyter-nbextensions-configurator-0.5.0\n"
     ]
    }
   ],
   "source": [
    "pip install jupyter_nbextensions_configurator"
   ]
  }
 ],
 "metadata": {
  "kernelspec": {
   "display_name": "Python 3.10.0 64-bit ('3.10.0')",
   "language": "python",
   "name": "python3"
  },
  "language_info": {
   "codemirror_mode": {
    "name": "ipython",
    "version": 3
   },
   "file_extension": ".py",
   "mimetype": "text/x-python",
   "name": "python",
   "nbconvert_exporter": "python",
   "pygments_lexer": "ipython3",
   "version": "3.10.0"
  },
  "vscode": {
   "interpreter": {
    "hash": "49a255c354a329e2561ed101bd4ba39fa2beb7bffbf26cfd7f03386349fa2e71"
   }
  }
 },
 "nbformat": 4,
 "nbformat_minor": 5
}
